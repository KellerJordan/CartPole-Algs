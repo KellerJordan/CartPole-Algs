{
 "cells": [
  {
   "cell_type": "markdown",
   "metadata": {},
   "source": [
    "# CartPole RS/ES/GA\n",
    "\n",
    "Originally planned to try RS, ES, Hill-Climbing, GA. However, task seems to be so simple that anything other than random search is largely ineffective."
   ]
  },
  {
   "cell_type": "code",
   "execution_count": 1,
   "metadata": {},
   "outputs": [
    {
     "name": "stdout",
     "output_type": "stream",
     "text": [
      "\u001b[33mWARN: gym.spaces.Box autodetected dtype as <class 'numpy.float32'>. Please provide explicit dtype.\u001b[0m\n"
     ]
    }
   ],
   "source": [
    "import gym\n",
    "import numpy as np\n",
    "from itertools import count\n",
    "\n",
    "env = gym.make('CartPole-v0').unwrapped"
   ]
  },
  {
   "cell_type": "code",
   "execution_count": 2,
   "metadata": {
    "collapsed": true
   },
   "outputs": [],
   "source": [
    "class LinearModel():\n",
    "    \n",
    "    def __init__(self, shape=(4, 2)):\n",
    "        stdev = 1 / np.sqrt(shape[0])\n",
    "        self.weights = np.random.uniform(-stdev, stdev, size=shape)\n",
    "    \n",
    "    def __call__(self, x):\n",
    "        acts = x.dot(self.weights)\n",
    "        return acts\n",
    "\n",
    "def get_action(action_values, eps=0.1):\n",
    "    if np.random.uniform() < eps:\n",
    "        return np.random.binomial(1, 0.5)\n",
    "    else:\n",
    "        return action_values.argmax()"
   ]
  },
  {
   "cell_type": "code",
   "execution_count": 3,
   "metadata": {
    "collapsed": true
   },
   "outputs": [],
   "source": [
    "def run_episode(model, eps=0.1, max_t=250, render=False):\n",
    "    env.reset()\n",
    "    state = env.state\n",
    "    \n",
    "    for t in count():\n",
    "        action_values = model(state)\n",
    "        action = get_action(action_values, eps)\n",
    "        state, reward, done, _ = env.step(action)\n",
    "        \n",
    "        if render:\n",
    "            env.render()\n",
    "            \n",
    "        if done or t >= max_t:\n",
    "            return t"
   ]
  },
  {
   "cell_type": "code",
   "execution_count": 4,
   "metadata": {
    "collapsed": true
   },
   "outputs": [],
   "source": [
    "def avg_reward(model, num_episodes=100):\n",
    "    avg_reward = sum(run_episode(model, eps=0.0, max_t=1000)\n",
    "                     for _ in range(num_episodes)) / num_episodes\n",
    "    return avg_reward\n",
    "\n",
    "def random_search(num_episodes):\n",
    "    best_reward = 0\n",
    "    best_model = None\n",
    "    \n",
    "    for _ in range(num_episodes):\n",
    "        model = LinearModel()\n",
    "        reward = run_episode(model, max_t=1000)\n",
    "\n",
    "        if reward > best_reward:\n",
    "            best_reward = reward\n",
    "            best_model = model\n",
    "    \n",
    "    return best_model\n",
    "\n",
    "# weight perturbations used in ES and GA\n",
    "def perturbation(shape):\n",
    "    stdev = 1 / np.sqrt(shape[0])\n",
    "    return np.random.normal(scale=stdev, size=shape)\n",
    "\n",
    "def evolution_strategies(num_iters, npop, sigma=0.1, alpha=0.1):\n",
    "    \n",
    "    model = LinearModel()\n",
    "    model.weights = np.zeros_like(model.weights)\n",
    "    \n",
    "    for _ in range(num_iters):\n",
    "        fitness_curr= run_episode(model)\n",
    "        perterb = sigma * np.array([perturbation(model.weights.shape)\n",
    "                                    for _ in range(npop)])\n",
    "        fitness = np.zeros(npop)\n",
    "        \n",
    "        for i in range(npop):\n",
    "            model.weights += perterb[i]\n",
    "            fitness[i] = run_episode(model)\n",
    "            model.weights -= perterb[i]\n",
    "        \n",
    "#         print(fitness.mean(), fitness.std())\n",
    "        fitness = (fitness - fitness_curr) / fitness_curr\n",
    "        gradient = perterb.transpose(1, 2, 0).dot(fitness)\n",
    "        gradient *= alpha / (npop * sigma)\n",
    "        model.weights += gradient\n",
    "    \n",
    "    return model"
   ]
  },
  {
   "cell_type": "code",
   "execution_count": 8,
   "metadata": {},
   "outputs": [],
   "source": [
    "model_RS = random_search(80)\n",
    "model_ES = evolution_strategies(8, 10)"
   ]
  },
  {
   "cell_type": "code",
   "execution_count": 5,
   "metadata": {},
   "outputs": [
    {
     "name": "stdout",
     "output_type": "stream",
     "text": [
      "886.1072\n",
      "555.6339999999999\n"
     ]
    }
   ],
   "source": [
    "fitness_RS = sum(avg_reward(random_search(80)) for _ in range(25))/25\n",
    "fitness_ES = sum(avg_reward(evolution_strategies(8, 10)) for _ in range(25))/25\n",
    "print(fitness_RS)\n",
    "print(fitness_ES)"
   ]
  },
  {
   "cell_type": "code",
   "execution_count": 10,
   "metadata": {},
   "outputs": [
    {
     "data": {
      "text/plain": [
       "1000"
      ]
     },
     "execution_count": 10,
     "metadata": {},
     "output_type": "execute_result"
    }
   ],
   "source": [
    "run_episode(model_ES, eps=0.0, max_t=1000, render=True)"
   ]
  },
  {
   "cell_type": "code",
   "execution_count": null,
   "metadata": {
    "collapsed": true
   },
   "outputs": [],
   "source": [
    "env.close()"
   ]
  }
 ],
 "metadata": {
  "kernelspec": {
   "display_name": "Python 3",
   "language": "python",
   "name": "python3"
  },
  "language_info": {
   "codemirror_mode": {
    "name": "ipython",
    "version": 3
   },
   "file_extension": ".py",
   "mimetype": "text/x-python",
   "name": "python",
   "nbconvert_exporter": "python",
   "pygments_lexer": "ipython3",
   "version": "3.6.2"
  }
 },
 "nbformat": 4,
 "nbformat_minor": 2
}
